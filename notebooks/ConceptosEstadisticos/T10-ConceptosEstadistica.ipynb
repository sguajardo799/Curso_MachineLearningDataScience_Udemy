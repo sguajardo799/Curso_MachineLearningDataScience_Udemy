{
 "cells": [
  {
   "cell_type": "markdown",
   "metadata": {},
   "source": [
    "# Conceptos basicos de estadistica para modelizacion predictiva"
   ]
  },
  {
   "cell_type": "markdown",
   "metadata": {},
   "source": [
    "## Muestreo aleatorio\n",
    "+ Lo que queremos estudiar muchas veces tomaria mucho tiempo en realizar toda la captura de datos\n",
    "+ Como solucion a esto podemos tomar una muestra aleatoria de tamaño *n* \n",
    "    + En este caso las metricas obtenidas tendran el subfijo de muestral:\n",
    "        + media muestral\n",
    "        + desviacion tipica/estandar muestral\n",
    "        + proporcion muestral\n",
    "+ A partir de estas metricas podemos inferir las metricas generales/poblacionales"
   ]
  },
  {
   "cell_type": "markdown",
   "metadata": {},
   "source": [
    "## Teorema Central del limite\n",
    "+ Se toman **n** Grupos en lugares diferentes\n",
    "+ Para estos datos de distribucion desconocida se sabe que los promedios/medias de las *n* muestras tomadas, es decir las ***n* medias** seguiran una distribucion normal"
   ]
  },
  {
   "cell_type": "markdown",
   "metadata": {},
   "source": [
    "## Contraste de hipotesis\n",
    "+ Se asume una hipotesis segun un valor de un estimador:\n",
    "    + Si es exactamente un valor => Contraste bilateral\n",
    "    + Si esta dentro de un rango/region => Contraste unilateral\n",
    "        + Asuminos el caso favorable (hipotesis nula) y lo defendemos hasta que se demuestre lo contrario\n",
    "        + En caso contrario el resultado es no favorable (hipotesis alternativa) \n",
    "    \n",
    "+ La poblacion de cierto lugar tiene una media u = u0\n",
    "+ Generamos un experimento o toma de muestras a cierta poblacion\n",
    "+ Tomamos nuestra hipotesis como media u, y para el caso de sigma tenemos dos posibles respuestas:\n",
    "    + Desviacion estandar, cantidad de muestras n y promedio, conocidas por estudios previos, podemos aplicar un test de normalidad o z-test\n",
    "        + z = (X - mu_X)/(sigma_X) = (X-mu)/(sigma/sqrt(n))\n",
    "        + Da como resultado una distribucion normal\n",
    "    + Desviacion estandar desconocida, mu se asume el de hipotesis, en este caso podemos emplear un t-test:\n",
    "        + S = (sum(Xi-mu_X)**2)/(n-1) -> sigma\n",
    "        + t = (X - mu)/(S/sqrt(n))\n",
    "        + Da como resultado una distribucion T de student"
   ]
  },
  {
   "cell_type": "markdown",
   "metadata": {},
   "source": [
    "### Como hacer un contraste de hipotesis paso a paso\n",
    "\n",
    "**Conceptos Relevantes**\n",
    "\n",
    "Si H_0 (hipotesis nula) es cierta, se esta modelando X como normal o T de Student:\n",
    "+ Conocemos que el area bajo la curva de distribucion es igual 1\n",
    "+ Asumiendo dos puntos Z1 y Z2 podemos plantear:\n",
    "    + P(X < Z1) = p1 -> P(X > Z1) = 1 - p1\n",
    "    + P(X < Z2) = p2 -> P(X > Z2) = 1 - p2\n",
    "+ Para validar nuestra hipotesis podemos en distribuciones normales considerar intervalos de confianza que sean aceptables, como:\n",
    "    + *-1sigma <= u0 <= 1sigma* = 68.2% de los valores\n",
    "    + *-2sigma <= u0 <= 2sigma* = 95.4% de los valores\n",
    "    + *-3sigma <= u0 <= 3sigma* = 99.7% de los valores\n",
    "+ Al fijar los intervalos Z en los cuales la hipotesis sea validada aparece un valor conocido como nivel de significacion o \\alpha, donde:\n",
    "    + p - valor > \\alpha => El estudio da razones para validar la hipotesis nula\n",
    "    + p - valor < \\alpha => Existen evidencias para rechazar la hipotesis\n",
    "+ Existen varios estudios para validar este nivel de significancia:\n",
    "    + Cola por la izquierda -> Hipotesis alternativa \"menor que\" Z \n",
    "    + Cola por la derecha -> Hipotesis alternativa \"mayor que\" Z\n",
    "    + Dos Colas\n",
    "\n",
    "**Pasos**:\n",
    "\n",
    "1.- Definir hipotesis nula mu_0 y alternativa uni o bilateral\n",
    "\n",
    "2.- Tomar muestra aleatoria de tamaño n y calcular el valor del estimador (Promedio, Proporcion, etc)\n",
    "\n",
    "3.- Calcular estadistico de contraste z-valor o t-valor\n",
    "\n",
    "4.- Calcular p-valor asociado\n",
    "\n",
    "5.- Comparar p-valor y el nivel de significacion, luego decidir"
   ]
  },
  {
   "cell_type": "markdown",
   "metadata": {},
   "source": [
    "### Ejemplo\n",
    "\n",
    "Uni pizzero afirma enviar la comida en 20 minutos con una desviacion estandar de 3 minutos.\n",
    "\n",
    "Sospechamos que es falso(1) por lo que tomamos 64 entregas de la ultima semana y obtenemos una media de 21.2 minutos(2)\n",
    "\n",
    "Podemos aceptat la afirmacion del pizzero con un nivel de confianza del 95%? -> alpha = 0.05\n",
    "\n",
    "sabemos la media propuesta y su desviacion estandar por lo que se aplica un z-test (3)\n",
    "\n",
    "Z = (21.2 - 20)/(3/sqrt(64)) = 3.2\n",
    "\n",
    "p = P(Z > 3.2) = 1 - P(Z<3.2) = 1 - 0.999 = 0.001 (4)\n",
    "\n",
    "p = 0.001 < 0.05 = alpha , por lo que la hipotesis nula es verdadera y el pizzero esta equivocado (5)"
   ]
  },
  {
   "cell_type": "markdown",
   "metadata": {},
   "source": [
    "## Test de Chi Cuadrado\n",
    "+ Test empleado para comparar datos observados y datos esperados\n",
    "+ Ejemplo al asumir una distribucion normal podemos comparar esta E_i a los datos que se estan midiendo O_i\n",
    "+ Se describe como:    \n",
    "    \n",
    "    $$\\Xi^2 = \\sum_{i=1}^{n}((O_i-E_i)^2/(E_i))$$\n",
    "\n",
    "Los test se dividen segun el numero de variables:\n",
    "+ Una variable:\n",
    "    + Bondad de ajuste\n",
    "+ Dos variables:\n",
    "    + Test de Homogeneidad\n",
    "    + Test de Independencia\n",
    "Este test tiene grados de libertad el que modela\n",
    "+ Una variable:\n",
    "    $$df = n_{categorias} - 1$$\n",
    "+ Dos variables:\n",
    "    $$df = (n_{row}-1) x (n_{col}-1)$$"
   ]
  },
  {
   "cell_type": "markdown",
   "metadata": {},
   "source": [
    "**Ejemplo**:\n",
    "\n",
    "Se tiera una moneda 1000 veces para saber si esta trucada, obteniendo 553 caras y 447 Cruces\n",
    "\n",
    "Esta trucada? Como hipotesis se plantea que no y debido a esto la proporcion entre cara y sello debe ser 0.5\n",
    "\n",
    "$$\\Xi^2 = ((553-500)^2 + (447-500)^2/(500)) = 11.236$$\n",
    "\n",
    "Asumiendo un nivel de significacion del 0.05 para 1 GDL ya que son 2 categorias se tiene que\n",
    "\n",
    "$$\\Xi^2_{\\alpha} = 3.841$$\n",
    "\n",
    "Por lo que se rechaza la hipotesis ya que sobrepasa por mucho el Xi para ese valor"
   ]
  },
  {
   "cell_type": "markdown",
   "metadata": {},
   "source": [
    "## Correlacion\n",
    "+ Es la relacion matematica entre variables que indica como cambia una respecto la otra\n",
    "+ Existen correlaciones como:\n",
    "    + Lineales $$y = ax + b$$\n",
    "    + Exponencial $$y = e^{ax} + b$$\n",
    "+ Para medir esta relaciom se puede cuantificar con el coeficiente de Correlacion de Pearson:\n",
    "    $$r = \\frac{\\sum_{i=1}^n (x_i - \\bar{x})(y_i - \\bar{y})}{\\sqrt{\\sum_{i=1}^n (x_i - \\bar{x})^2 \\sum_{i=1}^n (y_i - \\bar{y})^2}}$$\n",
    "\n",
    "+ Este valor esta en el rango de -1 a 1, mientras mas cercano a 1 la relacion es mas directa, si es negativo si una aumenta la otra disminuye, si esta entre -0.4 < r < 0.4 esta no tiene una correlacion a tomar en cuenta"
   ]
  },
  {
   "cell_type": "code",
   "execution_count": 4,
   "metadata": {},
   "outputs": [
    {
     "data": {
      "text/html": [
       "<div>\n",
       "<style scoped>\n",
       "    .dataframe tbody tr th:only-of-type {\n",
       "        vertical-align: middle;\n",
       "    }\n",
       "\n",
       "    .dataframe tbody tr th {\n",
       "        vertical-align: top;\n",
       "    }\n",
       "\n",
       "    .dataframe thead th {\n",
       "        text-align: right;\n",
       "    }\n",
       "</style>\n",
       "<table border=\"1\" class=\"dataframe\">\n",
       "  <thead>\n",
       "    <tr style=\"text-align: right;\">\n",
       "      <th></th>\n",
       "      <th>TV</th>\n",
       "      <th>Radio</th>\n",
       "      <th>Newspaper</th>\n",
       "      <th>Sales</th>\n",
       "    </tr>\n",
       "  </thead>\n",
       "  <tbody>\n",
       "    <tr>\n",
       "      <th>0</th>\n",
       "      <td>230.1</td>\n",
       "      <td>37.8</td>\n",
       "      <td>69.2</td>\n",
       "      <td>22.1</td>\n",
       "    </tr>\n",
       "    <tr>\n",
       "      <th>1</th>\n",
       "      <td>44.5</td>\n",
       "      <td>39.3</td>\n",
       "      <td>45.1</td>\n",
       "      <td>10.4</td>\n",
       "    </tr>\n",
       "    <tr>\n",
       "      <th>2</th>\n",
       "      <td>17.2</td>\n",
       "      <td>45.9</td>\n",
       "      <td>69.3</td>\n",
       "      <td>9.3</td>\n",
       "    </tr>\n",
       "    <tr>\n",
       "      <th>3</th>\n",
       "      <td>151.5</td>\n",
       "      <td>41.3</td>\n",
       "      <td>58.5</td>\n",
       "      <td>18.5</td>\n",
       "    </tr>\n",
       "    <tr>\n",
       "      <th>4</th>\n",
       "      <td>180.8</td>\n",
       "      <td>10.8</td>\n",
       "      <td>58.4</td>\n",
       "      <td>12.9</td>\n",
       "    </tr>\n",
       "  </tbody>\n",
       "</table>\n",
       "</div>"
      ],
      "text/plain": [
       "      TV  Radio  Newspaper  Sales\n",
       "0  230.1   37.8       69.2   22.1\n",
       "1   44.5   39.3       45.1   10.4\n",
       "2   17.2   45.9       69.3    9.3\n",
       "3  151.5   41.3       58.5   18.5\n",
       "4  180.8   10.8       58.4   12.9"
      ]
     },
     "execution_count": 4,
     "metadata": {},
     "output_type": "execute_result"
    }
   ],
   "source": [
    "import pandas as pd\n",
    "import numpy as np\n",
    "\n",
    "df_ads = pd.read_csv(\"../resources/python-ml-course/datasets/ads/Advertising.csv\")\n",
    "df_ads.head()"
   ]
  },
  {
   "cell_type": "code",
   "execution_count": 6,
   "metadata": {},
   "outputs": [
    {
     "data": {
      "text/plain": [
       "0.782224424861606"
      ]
     },
     "execution_count": 6,
     "metadata": {},
     "output_type": "execute_result"
    }
   ],
   "source": [
    "num = ((df_ads[\"TV\"] - np.mean(df_ads[\"TV\"]))*(df_ads[\"Sales\"] - np.mean(df_ads[\"Sales\"])))\n",
    "den1 = (df_ads[\"TV\"] - np.mean(df_ads[\"TV\"]))**2\n",
    "den2 = (df_ads[\"Sales\"] - np.mean(df_ads[\"Sales\"]))**2\n",
    "\n",
    "corr_pearson = sum(num)/np.sqrt(sum(den1) * sum(den2))\n",
    "corr_pearson"
   ]
  },
  {
   "cell_type": "code",
   "execution_count": 7,
   "metadata": {},
   "outputs": [
    {
     "data": {
      "text/plain": [
       "0.576222574571055"
      ]
     },
     "execution_count": 7,
     "metadata": {},
     "output_type": "execute_result"
    }
   ],
   "source": [
    "num = ((df_ads[\"Radio\"] - np.mean(df_ads[\"Radio\"]))*(df_ads[\"Sales\"] - np.mean(df_ads[\"Sales\"])))\n",
    "den1 = (df_ads[\"Radio\"] - np.mean(df_ads[\"Radio\"]))**2\n",
    "den2 = (df_ads[\"Sales\"] - np.mean(df_ads[\"Sales\"]))**2\n",
    "\n",
    "corr_pearson = sum(num)/np.sqrt(sum(den1) * sum(den2))\n",
    "corr_pearson"
   ]
  },
  {
   "cell_type": "code",
   "execution_count": 8,
   "metadata": {},
   "outputs": [
    {
     "data": {
      "text/plain": [
       "0.22829902637616534"
      ]
     },
     "execution_count": 8,
     "metadata": {},
     "output_type": "execute_result"
    }
   ],
   "source": [
    "num = ((df_ads[\"Newspaper\"] - np.mean(df_ads[\"Newspaper\"]))*(df_ads[\"Sales\"] - np.mean(df_ads[\"Sales\"])))\n",
    "den1 = (df_ads[\"Newspaper\"] - np.mean(df_ads[\"Newspaper\"]))**2\n",
    "den2 = (df_ads[\"Sales\"] - np.mean(df_ads[\"Sales\"]))**2\n",
    "\n",
    "corr_pearson = sum(num)/np.sqrt(sum(den1) * sum(den2))\n",
    "corr_pearson"
   ]
  },
  {
   "cell_type": "code",
   "execution_count": 17,
   "metadata": {},
   "outputs": [
    {
     "data": {
      "text/plain": [
       "<Axes: xlabel='Newspaper', ylabel='Sales'>"
      ]
     },
     "execution_count": 17,
     "metadata": {},
     "output_type": "execute_result"
    },
    {
     "data": {
      "image/png": "[encoded data removed]",
      "text/plain": [
       "<Figure size 640x480 with 3 Axes>"
      ]
     },
     "metadata": {},
     "output_type": "display_data"
    }
   ],
   "source": [
    "import matplotlib.pyplot as plt\n",
    "\n",
    "figure, axs = plt.subplots(3, 1, sharey=True)\n",
    "df_ads.plot(kind=\"scatter\", x=\"TV\", y=\"Sales\", ax=axs[0])\n",
    "df_ads.plot(kind=\"scatter\", x=\"Radio\", y=\"Sales\", ax=axs[1])\n",
    "df_ads.plot(kind=\"scatter\", x=\"Newspaper\", y=\"Sales\", ax=axs[2])"
   ]
  },
  {
   "cell_type": "code",
   "execution_count": 9,
   "metadata": {},
   "outputs": [
    {
     "data": {
      "text/html": [
       "<div>\n",
       "<style scoped>\n",
       "    .dataframe tbody tr th:only-of-type {\n",
       "        vertical-align: middle;\n",
       "    }\n",
       "\n",
       "    .dataframe tbody tr th {\n",
       "        vertical-align: top;\n",
       "    }\n",
       "\n",
       "    .dataframe thead th {\n",
       "        text-align: right;\n",
       "    }\n",
       "</style>\n",
       "<table border=\"1\" class=\"dataframe\">\n",
       "  <thead>\n",
       "    <tr style=\"text-align: right;\">\n",
       "      <th></th>\n",
       "      <th>TV</th>\n",
       "      <th>Radio</th>\n",
       "      <th>Newspaper</th>\n",
       "      <th>Sales</th>\n",
       "    </tr>\n",
       "  </thead>\n",
       "  <tbody>\n",
       "    <tr>\n",
       "      <th>TV</th>\n",
       "      <td>1.000000</td>\n",
       "      <td>0.054809</td>\n",
       "      <td>0.056648</td>\n",
       "      <td>0.782224</td>\n",
       "    </tr>\n",
       "    <tr>\n",
       "      <th>Radio</th>\n",
       "      <td>0.054809</td>\n",
       "      <td>1.000000</td>\n",
       "      <td>0.354104</td>\n",
       "      <td>0.576223</td>\n",
       "    </tr>\n",
       "    <tr>\n",
       "      <th>Newspaper</th>\n",
       "      <td>0.056648</td>\n",
       "      <td>0.354104</td>\n",
       "      <td>1.000000</td>\n",
       "      <td>0.228299</td>\n",
       "    </tr>\n",
       "    <tr>\n",
       "      <th>Sales</th>\n",
       "      <td>0.782224</td>\n",
       "      <td>0.576223</td>\n",
       "      <td>0.228299</td>\n",
       "      <td>1.000000</td>\n",
       "    </tr>\n",
       "  </tbody>\n",
       "</table>\n",
       "</div>"
      ],
      "text/plain": [
       "                 TV     Radio  Newspaper     Sales\n",
       "TV         1.000000  0.054809   0.056648  0.782224\n",
       "Radio      0.054809  1.000000   0.354104  0.576223\n",
       "Newspaper  0.056648  0.354104   1.000000  0.228299\n",
       "Sales      0.782224  0.576223   0.228299  1.000000"
      ]
     },
     "execution_count": 9,
     "metadata": {},
     "output_type": "execute_result"
    }
   ],
   "source": [
    "df_ads.corr(method=\"pearson\")"
   ]
  },
  {
   "cell_type": "code",
   "execution_count": null,
   "metadata": {},
   "outputs": [],
   "source": [
    "df_ads.plot(kind=\"\")"
   ]
  },
  {
   "cell_type": "code",
   "execution_count": 18,
   "metadata": {},
   "outputs": [
    {
     "data": {
      "text/plain": [
       "<matplotlib.image.AxesImage at 0x292f5502c10>"
      ]
     },
     "execution_count": 18,
     "metadata": {},
     "output_type": "execute_result"
    },
    {
     "data": {
      "image/png": "[encoded data removed]",
      "text/plain": [
       "<Figure size 480x480 with 1 Axes>"
      ]
     },
     "metadata": {},
     "output_type": "display_data"
    }
   ],
   "source": [
    "plt.matshow(df_ads.corr(method=\"pearson\"))"
   ]
  }
 ],
 "metadata": {
  "kernelspec": {
   "display_name": "venv",
   "language": "python",
   "name": "python3"
  },
  "language_info": {
   "codemirror_mode": {
    "name": "ipython",
    "version": 3
   },
   "file_extension": ".py",
   "mimetype": "text/x-python",
   "name": "python",
   "nbconvert_exporter": "python",
   "pygments_lexer": "ipython3",
   "version": "3.11.5"
  },
  "orig_nbformat": 4
 },
 "nbformat": 4,
 "nbformat_minor": 2
}
