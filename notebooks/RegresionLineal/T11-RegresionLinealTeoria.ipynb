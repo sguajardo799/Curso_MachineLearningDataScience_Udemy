{
 "cells": [
  {
   "cell_type": "markdown",
   "metadata": {},
   "source": [
    "# Regresion Lineal\n",
    "\n",
    "Algunas caracteristicas de este algoritmo son:\n",
    "+ Es un algoritmo supervisado por lo que necesita datos etiquetados o historicos\n",
    "+ Relaciona las variables de entrada(variable predictora) con la salida de la siguiente forma:\n",
    "    $$y_e = \\alpha + \\beta \\cdot x$$\n",
    "+ Para ajustar el modelo y hallar los parametros alfa y beta, utilizaremos un indice a minimizar que normalmente sera un error entre el valor real y el estimado\n",
    "    $$e_i = (y_i - Y_e(x_i))$$\n",
    "+ Para evitar que la sumatoria de estos errores se compense, se emplea el error cuadratico y en funcion del modelo predictivo este quedara dado por:\n",
    "    $$min \\sum_{i=1}^n e_i^2 = \\sum_{i=1}^n (y_i - Y_e(x_i))^2 = \\sum_{i=1}^n (y_i - (\\alpha + \\beta \\cdot x_i))^2$$\n",
    "+ Empleando Calculo diferencial, podemos obtener que los parametros minimizados estan dados por:\n",
    "    $$\\beta = \\frac{\\sum_{i=1}^n (x_i-\\bar{x})(y_i-\\bar{y})}{\\sum_{i=1}^n (x_i-\\bar{x})^2} = \\frac{Cov(x,y)}{Var(x)}$$\n",
    "    $$\\alpha = \\bar{y} + \\beta \\cdot \\bar{x}$$\n",
    "\n",
    "+ Debido a que hay muy pocos modelos realmente lineales se añade un componente de error o residuo $\\epsilon$\n",
    "$$y = \\alpha + \\beta \\cdot x + \\epsilon$$\n",
    "\n",
    "+ Se asume que las distribucion de $\\epsilon$ es normal, en caso contrario se puede asumir incorrecto emplear una regresion lineal"
   ]
  },
  {
   "cell_type": "markdown",
   "metadata": {},
   "source": [
    "## Visualizacion de errores: Modelo con datos simulados\n",
    "+ Se buscaran los parametros (a,b) de y = a + bx\n",
    "+ X: 100 valores distribuidos por N(1.5, 2.5)\n",
    "+ Ye1: 11 + 2.1*x + e\n",
    "+ e: distribuido por N(0, 0.5)"
   ]
  },
  {
   "cell_type": "code",
   "execution_count": 7,
   "metadata": {},
   "outputs": [],
   "source": [
    "import pandas as pd\n",
    "import numpy as np\n",
    "import matplotlib.pyplot as plt\n",
    "\n",
    "# Datos x\n",
    "x = 1.5 + 2.5*np.random.randn(100)"
   ]
  },
  {
   "cell_type": "code",
   "execution_count": 8,
   "metadata": {},
   "outputs": [],
   "source": [
    "# Datos y predichos\n",
    "y_pred = 1.1 + 2.1*x"
   ]
  },
  {
   "cell_type": "code",
   "execution_count": 9,
   "metadata": {},
   "outputs": [],
   "source": [
    "# Datos y reales\n",
    "res = 1.9*np.random.randn(100)\n",
    "y_actual = 1.1 + 2.1*x + res"
   ]
  },
  {
   "cell_type": "code",
   "execution_count": 10,
   "metadata": {},
   "outputs": [
    {
     "data": {
      "text/html": [
       "<div>\n",
       "<style scoped>\n",
       "    .dataframe tbody tr th:only-of-type {\n",
       "        vertical-align: middle;\n",
       "    }\n",
       "\n",
       "    .dataframe tbody tr th {\n",
       "        vertical-align: top;\n",
       "    }\n",
       "\n",
       "    .dataframe thead th {\n",
       "        text-align: right;\n",
       "    }\n",
       "</style>\n",
       "<table border=\"1\" class=\"dataframe\">\n",
       "  <thead>\n",
       "    <tr style=\"text-align: right;\">\n",
       "      <th></th>\n",
       "      <th>x</th>\n",
       "      <th>y_actual</th>\n",
       "      <th>y_pred</th>\n",
       "    </tr>\n",
       "  </thead>\n",
       "  <tbody>\n",
       "    <tr>\n",
       "      <th>0</th>\n",
       "      <td>3.136605</td>\n",
       "      <td>8.440922</td>\n",
       "      <td>7.686869</td>\n",
       "    </tr>\n",
       "    <tr>\n",
       "      <th>1</th>\n",
       "      <td>0.203248</td>\n",
       "      <td>1.008398</td>\n",
       "      <td>1.526822</td>\n",
       "    </tr>\n",
       "    <tr>\n",
       "      <th>2</th>\n",
       "      <td>0.679132</td>\n",
       "      <td>1.629045</td>\n",
       "      <td>2.526177</td>\n",
       "    </tr>\n",
       "    <tr>\n",
       "      <th>3</th>\n",
       "      <td>2.175014</td>\n",
       "      <td>7.229645</td>\n",
       "      <td>5.667530</td>\n",
       "    </tr>\n",
       "    <tr>\n",
       "      <th>4</th>\n",
       "      <td>-1.379610</td>\n",
       "      <td>-2.470662</td>\n",
       "      <td>-1.797181</td>\n",
       "    </tr>\n",
       "  </tbody>\n",
       "</table>\n",
       "</div>"
      ],
      "text/plain": [
       "          x  y_actual    y_pred\n",
       "0  3.136605  8.440922  7.686869\n",
       "1  0.203248  1.008398  1.526822\n",
       "2  0.679132  1.629045  2.526177\n",
       "3  2.175014  7.229645  5.667530\n",
       "4 -1.379610 -2.470662 -1.797181"
      ]
     },
     "execution_count": 10,
     "metadata": {},
     "output_type": "execute_result"
    }
   ],
   "source": [
    "data = pd.DataFrame({\n",
    "    \"x\":x,\n",
    "    \"y_actual\":y_actual,\n",
    "    \"y_pred\":y_pred\n",
    "})\n",
    "data.head()"
   ]
  },
  {
   "cell_type": "code",
   "execution_count": 11,
   "metadata": {},
   "outputs": [],
   "source": [
    "y_mean = [np.mean(y_actual) for i in range(1, len(x) + 1)]"
   ]
  },
  {
   "cell_type": "code",
   "execution_count": 12,
   "metadata": {},
   "outputs": [
    {
     "data": {
      "text/plain": [
       "[<matplotlib.lines.Line2D at 0x19ccff20cd0>]"
      ]
     },
     "execution_count": 12,
     "metadata": {},
     "output_type": "execute_result"
    },
    {
     "data": {
      "image/png": "[encoded data removed]",
      "text/plain": [
       "<Figure size 640x480 with 1 Axes>"
      ]
     },
     "metadata": {},
     "output_type": "display_data"
    }
   ],
   "source": [
    "%matplotlib inline\n",
    "plt.plot(x, y_pred)\n",
    "plt.plot(x, y_mean, color=\"Green\")\n",
    "plt.plot(x, y_actual, \"ro\")"
   ]
  },
  {
   "cell_type": "markdown",
   "metadata": {},
   "source": [
    "+ Podemos observar en azul el valor real del modelo, en rojo el predicho y en verde el promedio\n",
    "+ Existen 3 distancias relevantes:\n",
    "    + SSD distancia de punto predicho y punto real, el cual no esta explicado por modelo y debe seguir una distribucion normal\n",
    "    + SST distancia de punto predicho y promedio\n",
    "    + SSR distancia de promedio y punto real, es el que se fija en el modelo\n",
    "+ Para los que se debe cumplir que:\n",
    "    + SST = SSR + SSD\n",
    "+ De esto se deriva el estimador $R^2$, el cual es util para saber si un modelo es aceptable:\n",
    "    + $R^2 = SSR/SST$\n",
    "    + Se busca que sea cercano a 1, donde los errores no explicados de modelo sean 0"
   ]
  },
  {
   "cell_type": "code",
   "execution_count": 13,
   "metadata": {},
   "outputs": [],
   "source": [
    "data[\"SSR\"] = (data[\"y_pred\"]-np.mean(y_actual))**2\n",
    "data[\"SSD\"] = (data[\"y_pred\"]-data[\"y_actual\"])**2\n",
    "data[\"SST\"] = (data[\"y_actual\"]-np.mean(y_actual))**2"
   ]
  },
  {
   "cell_type": "code",
   "execution_count": 14,
   "metadata": {},
   "outputs": [
    {
     "data": {
      "text/html": [
       "<div>\n",
       "<style scoped>\n",
       "    .dataframe tbody tr th:only-of-type {\n",
       "        vertical-align: middle;\n",
       "    }\n",
       "\n",
       "    .dataframe tbody tr th {\n",
       "        vertical-align: top;\n",
       "    }\n",
       "\n",
       "    .dataframe thead th {\n",
       "        text-align: right;\n",
       "    }\n",
       "</style>\n",
       "<table border=\"1\" class=\"dataframe\">\n",
       "  <thead>\n",
       "    <tr style=\"text-align: right;\">\n",
       "      <th></th>\n",
       "      <th>x</th>\n",
       "      <th>y_actual</th>\n",
       "      <th>y_pred</th>\n",
       "      <th>SSR</th>\n",
       "      <th>SSD</th>\n",
       "      <th>SST</th>\n",
       "    </tr>\n",
       "  </thead>\n",
       "  <tbody>\n",
       "    <tr>\n",
       "      <th>0</th>\n",
       "      <td>3.136605</td>\n",
       "      <td>8.440922</td>\n",
       "      <td>7.686869</td>\n",
       "      <td>11.631678</td>\n",
       "      <td>0.568595</td>\n",
       "      <td>17.343701</td>\n",
       "    </tr>\n",
       "    <tr>\n",
       "      <th>1</th>\n",
       "      <td>0.203248</td>\n",
       "      <td>1.008398</td>\n",
       "      <td>1.526822</td>\n",
       "      <td>7.559877</td>\n",
       "      <td>0.268764</td>\n",
       "      <td>10.679480</td>\n",
       "    </tr>\n",
       "    <tr>\n",
       "      <th>2</th>\n",
       "      <td>0.679132</td>\n",
       "      <td>1.629045</td>\n",
       "      <td>2.526177</td>\n",
       "      <td>3.063089</td>\n",
       "      <td>0.804845</td>\n",
       "      <td>7.008195</td>\n",
       "    </tr>\n",
       "    <tr>\n",
       "      <th>3</th>\n",
       "      <td>2.175014</td>\n",
       "      <td>7.229645</td>\n",
       "      <td>5.667530</td>\n",
       "      <td>1.935397</td>\n",
       "      <td>2.440201</td>\n",
       "      <td>8.721979</td>\n",
       "    </tr>\n",
       "    <tr>\n",
       "      <th>4</th>\n",
       "      <td>-1.379610</td>\n",
       "      <td>-2.470662</td>\n",
       "      <td>-1.797181</td>\n",
       "      <td>36.887719</td>\n",
       "      <td>0.453576</td>\n",
       "      <td>45.522100</td>\n",
       "    </tr>\n",
       "  </tbody>\n",
       "</table>\n",
       "</div>"
      ],
      "text/plain": [
       "          x  y_actual    y_pred        SSR       SSD        SST\n",
       "0  3.136605  8.440922  7.686869  11.631678  0.568595  17.343701\n",
       "1  0.203248  1.008398  1.526822   7.559877  0.268764  10.679480\n",
       "2  0.679132  1.629045  2.526177   3.063089  0.804845   7.008195\n",
       "3  2.175014  7.229645  5.667530   1.935397  2.440201   8.721979\n",
       "4 -1.379610 -2.470662 -1.797181  36.887719  0.453576  45.522100"
      ]
     },
     "execution_count": 14,
     "metadata": {},
     "output_type": "execute_result"
    }
   ],
   "source": [
    "data.head()"
   ]
  },
  {
   "cell_type": "code",
   "execution_count": 15,
   "metadata": {},
   "outputs": [
    {
     "name": "stdout",
     "output_type": "stream",
     "text": [
      "SSR: 2687.283872774421 | SSD: 365.4355098689892 | SSR+SSD: 3052.7193826434104 | SST: 3151.4879286723612\n"
     ]
    }
   ],
   "source": [
    "SSR = sum(data[\"SSR\"])\n",
    "SSD = sum(data[\"SSD\"])\n",
    "SST = sum(data[\"SST\"])\n",
    "print(f\"SSR: {SSR} | SSD: {SSD} | SSR+SSD: {SSR+SSD} | SST: {SST}\")"
   ]
  },
  {
   "cell_type": "code",
   "execution_count": 16,
   "metadata": {},
   "outputs": [
    {
     "data": {
      "text/plain": [
       "0.8527032099109143"
      ]
     },
     "execution_count": 16,
     "metadata": {},
     "output_type": "execute_result"
    }
   ],
   "source": [
    "R2 = SSR/SST\n",
    "R2"
   ]
  },
  {
   "cell_type": "markdown",
   "metadata": {},
   "source": [
    "Para obtener nuestros coeficientes de regresion hacemos\n",
    "$$b = \\frac{\\sum(x_i - x_m)*(y_i-y_m)}{\\sum(x_i-x_m)^2}$$\n",
    "$$a = y_m - b \\cdot x_m$$"
   ]
  },
  {
   "cell_type": "code",
   "execution_count": 17,
   "metadata": {},
   "outputs": [
    {
     "data": {
      "text/plain": [
       "(1.470301164683911, 4.276344886296474)"
      ]
     },
     "execution_count": 17,
     "metadata": {},
     "output_type": "execute_result"
    }
   ],
   "source": [
    "x_mean = np.mean(data[\"x\"])\n",
    "y_mean = np.mean(data[\"y_actual\"])\n",
    "x_mean, y_mean"
   ]
  },
  {
   "cell_type": "code",
   "execution_count": 18,
   "metadata": {},
   "outputs": [],
   "source": [
    "data[\"beta_n\"] = (data[\"x\"]-x_mean)*(data[\"y_actual\"]-y_mean)\n",
    "data[\"beta_d\"] = ((data[\"x\"]-x_mean)**2)"
   ]
  },
  {
   "cell_type": "code",
   "execution_count": 19,
   "metadata": {},
   "outputs": [
    {
     "data": {
      "text/html": [
       "<div>\n",
       "<style scoped>\n",
       "    .dataframe tbody tr th:only-of-type {\n",
       "        vertical-align: middle;\n",
       "    }\n",
       "\n",
       "    .dataframe tbody tr th {\n",
       "        vertical-align: top;\n",
       "    }\n",
       "\n",
       "    .dataframe thead th {\n",
       "        text-align: right;\n",
       "    }\n",
       "</style>\n",
       "<table border=\"1\" class=\"dataframe\">\n",
       "  <thead>\n",
       "    <tr style=\"text-align: right;\">\n",
       "      <th></th>\n",
       "      <th>x</th>\n",
       "      <th>y_actual</th>\n",
       "      <th>y_pred</th>\n",
       "      <th>SSR</th>\n",
       "      <th>SSD</th>\n",
       "      <th>SST</th>\n",
       "      <th>beta_n</th>\n",
       "      <th>beta_d</th>\n",
       "    </tr>\n",
       "  </thead>\n",
       "  <tbody>\n",
       "    <tr>\n",
       "      <th>0</th>\n",
       "      <td>3.136605</td>\n",
       "      <td>8.440922</td>\n",
       "      <td>7.686869</td>\n",
       "      <td>11.631678</td>\n",
       "      <td>0.568595</td>\n",
       "      <td>17.343701</td>\n",
       "      <td>6.939448</td>\n",
       "      <td>2.776567</td>\n",
       "    </tr>\n",
       "    <tr>\n",
       "      <th>1</th>\n",
       "      <td>0.203248</td>\n",
       "      <td>1.008398</td>\n",
       "      <td>1.526822</td>\n",
       "      <td>7.559877</td>\n",
       "      <td>0.268764</td>\n",
       "      <td>10.679480</td>\n",
       "      <td>4.140662</td>\n",
       "      <td>1.605423</td>\n",
       "    </tr>\n",
       "    <tr>\n",
       "      <th>2</th>\n",
       "      <td>0.679132</td>\n",
       "      <td>1.629045</td>\n",
       "      <td>2.526177</td>\n",
       "      <td>3.063089</td>\n",
       "      <td>0.804845</td>\n",
       "      <td>7.008195</td>\n",
       "      <td>2.094462</td>\n",
       "      <td>0.625949</td>\n",
       "    </tr>\n",
       "    <tr>\n",
       "      <th>3</th>\n",
       "      <td>2.175014</td>\n",
       "      <td>7.229645</td>\n",
       "      <td>5.667530</td>\n",
       "      <td>1.935397</td>\n",
       "      <td>2.440201</td>\n",
       "      <td>8.721979</td>\n",
       "      <td>2.081230</td>\n",
       "      <td>0.496621</td>\n",
       "    </tr>\n",
       "    <tr>\n",
       "      <th>4</th>\n",
       "      <td>-1.379610</td>\n",
       "      <td>-2.470662</td>\n",
       "      <td>-1.797181</td>\n",
       "      <td>36.887719</td>\n",
       "      <td>0.453576</td>\n",
       "      <td>45.522100</td>\n",
       "      <td>19.228370</td>\n",
       "      <td>8.121994</td>\n",
       "    </tr>\n",
       "  </tbody>\n",
       "</table>\n",
       "</div>"
      ],
      "text/plain": [
       "          x  y_actual    y_pred        SSR       SSD        SST     beta_n  \\\n",
       "0  3.136605  8.440922  7.686869  11.631678  0.568595  17.343701   6.939448   \n",
       "1  0.203248  1.008398  1.526822   7.559877  0.268764  10.679480   4.140662   \n",
       "2  0.679132  1.629045  2.526177   3.063089  0.804845   7.008195   2.094462   \n",
       "3  2.175014  7.229645  5.667530   1.935397  2.440201   8.721979   2.081230   \n",
       "4 -1.379610 -2.470662 -1.797181  36.887719  0.453576  45.522100  19.228370   \n",
       "\n",
       "     beta_d  \n",
       "0  2.776567  \n",
       "1  1.605423  \n",
       "2  0.625949  \n",
       "3  0.496621  \n",
       "4  8.121994  "
      ]
     },
     "execution_count": 19,
     "metadata": {},
     "output_type": "execute_result"
    }
   ],
   "source": [
    "data.head()"
   ]
  },
  {
   "cell_type": "code",
   "execution_count": 20,
   "metadata": {},
   "outputs": [
    {
     "data": {
      "text/plain": [
       "(1.1310498317258793, 2.1392182296521396)"
      ]
     },
     "execution_count": 20,
     "metadata": {},
     "output_type": "execute_result"
    }
   ],
   "source": [
    "beta = sum(data[\"beta_n\"])/sum(data[\"beta_d\"]) # ojo son dos sumatorias n y d por eso se separa\n",
    "alfa = y_mean - beta * x_mean\n",
    "alfa, beta"
   ]
  },
  {
   "cell_type": "code",
   "execution_count": 21,
   "metadata": {},
   "outputs": [],
   "source": [
    "data[\"y_model\"] = alfa + beta*data[\"x\"]"
   ]
  },
  {
   "cell_type": "code",
   "execution_count": 22,
   "metadata": {},
   "outputs": [
    {
     "data": {
      "text/plain": [
       "[<matplotlib.lines.Line2D at 0x19cd002e150>]"
      ]
     },
     "execution_count": 22,
     "metadata": {},
     "output_type": "execute_result"
    },
    {
     "data": {
      "image/png": "[encoded data removed]",
      "text/plain": [
       "<Figure size 640x480 with 1 Axes>"
      ]
     },
     "metadata": {},
     "output_type": "display_data"
    }
   ],
   "source": [
    "%matplotlib inline\n",
    "plt.plot(x, data[\"y_model\"])\n",
    "plt.plot(x, data[\"y_pred\"])\n",
    "plt.plot(x, data[\"y_actual\"], \"ro\")"
   ]
  },
  {
   "cell_type": "code",
   "execution_count": 23,
   "metadata": {},
   "outputs": [
    {
     "name": "stdout",
     "output_type": "stream",
     "text": [
      "SSR: 2787.7763742761563 | SSD: 363.7115543962065 | SSR+SSD: 3151.4879286723626 | SST: 3151.4879286723612\n"
     ]
    }
   ],
   "source": [
    "SSR = sum((data[\"y_model\"]-y_mean)**2)\n",
    "SSD = sum((data[\"y_model\"]-data[\"y_actual\"])**2)\n",
    "SST = sum((data[\"y_actual\"]-y_mean)**2)\n",
    "print(f\"SSR: {SSR} | SSD: {SSD} | SSR+SSD: {SSR+SSD} | SST: {SST}\")"
   ]
  },
  {
   "cell_type": "code",
   "execution_count": 24,
   "metadata": {},
   "outputs": [
    {
     "data": {
      "text/plain": [
       "0.884590529099876"
      ]
     },
     "execution_count": 24,
     "metadata": {},
     "output_type": "execute_result"
    }
   ],
   "source": [
    "R2 = SSR/SST\n",
    "R2"
   ]
  },
  {
   "cell_type": "markdown",
   "metadata": {},
   "source": [
    "### Otros parametros estadisticos de evaluacion\n",
    "#### EL p-valor\n",
    "+ En casos de multiples variables X, nos gustaria conocer cuanto aporta cada una.\n",
    "+ En el caso que $\\beta$ sea muy cercano a 0 entonces solo $\\alpha$ aportaria informacion y las variables no estarian correlacionadas\n",
    "    + Un contraste de hipotesis posible seria \n",
    "    $$ \n",
    "    \\begin{matrix}\n",
    "    H_0: \\beta = 0 \\\\\n",
    "    H_1: \\beta \\neq 0\n",
    "    \\end{matrix}\n",
    "    $$\n",
    "    + Con el p-valor evaluamos, si p-valor es menor que el nivel de significacion se rechaza la hipotesis y aceptamos la relacion lineal\n",
    "\n",
    "#### El estadistico F\n",
    "+ Se emplea para evaluar si en el conjunto de variables aleatorias X hay almenos una significativa como predictora\n",
    "+ Para comprobar la existencia de esta relacion, planteamos:\n",
    "$$\n",
    "\\begin{matrix}\n",
    "    H_0: \\beta _1 = \\beta _1 = ... = \\beta _k = 0 \\\\\n",
    "    H_1: \\beta \\neq 0, para~algun~i\n",
    "\\end{matrix}\n",
    "$$\n",
    "+ El estadistico F para comprobar esta hipotesis seria\n",
    "$$\n",
    "F = \\frac{\\frac{SSR}{p}}{\\frac{SSD}{n-p-1}}\n",
    "$$\n",
    "    Donde\n",
    "$$\n",
    "n = N°~de~filas~de~dataset\n",
    "$$\n",
    "$$\n",
    "p = N°~de~variables~predictoras\n",
    "$$\n",
    "$$\n",
    "SST = \\sum (y_i - \\bar{y})^2, SSR=\\sum(y(x_i)-\\bar{y})^2, SSD = \\sum (y_i - y(x_i))^2\n",
    "$$\n",
    "+ Dado el estadistico F obtenemos un p-valor el que se evalua respecto al nivel de significancia seleccionado para una distribucion de Fisher, si este es mas pequeño que el nivel de significancia la hipotesis se rechaza y existe algun $\\beta _i$ que es representativo.\n",
    "\n",
    "#### El error estandar residual (RSE)\n",
    "+ Es la desviacion estandar el termino $\\epsilon$\n",
    "+ Para una regresion lineal simple:\n",
    "$$\n",
    "RSE = \\sqrt \\frac{\\sum(y_i - y(x_i))^2}{n-2} = \\sqrt\\frac{SSD}{n-2}\n",
    "$$\n",
    "+ Para una regresion lineal multiple (p n° de variables predictoras):\n",
    "$$\n",
    "RSE = \\sqrt\\frac{SSD}{n-p-1}\n",
    "$$\n",
    "+ Podemos emplear esta desviacion tipica para comparar con el promedio de los valores reales y calcular un % de error respecto a la media como:\n",
    "$$\n",
    "\\frac{RSE}{\\bar{y}} \\cdot 100\\%\n",
    "$$"
   ]
  },
  {
   "cell_type": "markdown",
   "metadata": {},
   "source": []
  },
  {
   "cell_type": "code",
   "execution_count": null,
   "metadata": {},
   "outputs": [],
   "source": []
  }
 ],
 "metadata": {
  "kernelspec": {
   "display_name": "venv",
   "language": "python",
   "name": "python3"
  },
  "language_info": {
   "codemirror_mode": {
    "name": "ipython",
    "version": 3
   },
   "file_extension": ".py",
   "mimetype": "text/x-python",
   "name": "python",
   "nbconvert_exporter": "python",
   "pygments_lexer": "ipython3",
   "version": "3.11.5"
  },
  "orig_nbformat": 4
 },
 "nbformat": 4,
 "nbformat_minor": 2
}
